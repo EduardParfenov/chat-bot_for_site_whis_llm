{
 "cells": [
  {
   "cell_type": "markdown",
   "metadata": {},
   "source": [
    "использую python 3.10.13 и LangCain  \n",
    "\n",
    "Проверим, что PyTorch использует CUDA  "
   ]
  },
  {
   "cell_type": "code",
   "execution_count": 1,
   "metadata": {},
   "outputs": [
    {
     "name": "stdout",
     "output_type": "stream",
     "text": [
      "PyTorch видит CUDA: True\n",
      "Количество GPU: 1\n",
      "Текущий GPU: 0\n",
      "Название GPU: NVIDIA T1000 8GB\n",
      "Версия CUDA в PyTorch: 12.4\n"
     ]
    }
   ],
   "source": [
    "import torch\n",
    "print(f\"PyTorch видит CUDA: {torch.cuda.is_available()}\")\n",
    "print(f\"Количество GPU: {torch.cuda.device_count()}\")\n",
    "print(f\"Текущий GPU: {torch.cuda.current_device()}\")\n",
    "print(f\"Название GPU: {torch.cuda.get_device_name(0)}\")\n",
    "print(f\"Версия CUDA в PyTorch: {torch.version.cuda}\")"
   ]
  }
 ],
 "metadata": {
  "kernelspec": {
   "display_name": ".venv",
   "language": "python",
   "name": "python3"
  },
  "language_info": {
   "codemirror_mode": {
    "name": "ipython",
    "version": 3
   },
   "file_extension": ".py",
   "mimetype": "text/x-python",
   "name": "python",
   "nbconvert_exporter": "python",
   "pygments_lexer": "ipython3",
   "version": "3.10.13"
  }
 },
 "nbformat": 4,
 "nbformat_minor": 2
}
